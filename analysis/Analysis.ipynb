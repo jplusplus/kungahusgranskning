{
 "cells": [
  {
   "cell_type": "code",
   "execution_count": 5,
   "metadata": {
    "collapsed": true
   },
   "outputs": [],
   "source": [
    "import pandas as pd\n",
    "import numpy as np"
   ]
  },
  {
   "cell_type": "code",
   "execution_count": 185,
   "metadata": {
    "collapsed": false
   },
   "outputs": [],
   "source": [
    "# Get data\n",
    "df = pd.DataFrame.from_csv(\"../data/Geokategoriserade händelser - data.csv\")\n",
    "\n",
    "# Drop duplicates\n",
    "df = df.drop_duplicates()\n",
    "\n",
    "# Drop calender aggregates\n",
    "values_to_drop = [\"Kungaparet\", \"Kronprinsessparet\", \"Prinsparet\", \"Prinsessparet\"]\n",
    "df = df.drop(df[df[\"person\"].isin(values_to_drop)].index)\n"
   ]
  },
  {
   "cell_type": "code",
   "execution_count": 186,
   "metadata": {
    "collapsed": false
   },
   "outputs": [],
   "source": [
    "# Aggregate by person and country\n",
    "by_person_country = pd.pivot_table(df, values=['date_start'], index=['person','country'], columns=['location_category'], aggfunc=np.count_nonzero)\n",
    "by_person_country[\"totalt\"] = by_person_country.sum(axis=1)\n",
    "\n",
    "# Aggregate country\n",
    "by_country = pd.pivot_table(df, values=['date_start'], index=['country'], columns=['location_category'], aggfunc=np.count_nonzero)\n",
    "by_country[\"totalt\"] = by_country.sum(axis=1)\n",
    "\n",
    "# Only Swedes\n",
    "swe_by_person = pd.pivot_table(df[df.country==\"Sverige\"], values=['date_start'], index=['person'], columns=['location_category'], aggfunc=np.count_nonzero)\n",
    "swe_by_person[\"totalt\"] = swe_by_person.sum(axis=1)\n"
   ]
  },
  {
   "cell_type": "markdown",
   "metadata": {},
   "source": [
    "Det svenska kungahuset är det klart mest aktiva om man bara räknar aktiviterer (kalenderhändelser) per person."
   ]
  },
  {
   "cell_type": "code",
   "execution_count": 187,
   "metadata": {
    "collapsed": false
   },
   "outputs": [
    {
     "name": "stdout",
     "output_type": "stream",
     "text": [
      "                  date_start                 totalt\n",
      "location_category    inrikes slottet utrikes       \n",
      "country                                            \n",
      "Sverige                  500     639      81   1220\n",
      "Danmark                  373     235      58    666\n",
      "Norge                    255     257      99    611\n"
     ]
    }
   ],
   "source": [
    "print(by_country.sort_values(\"totalt\", ascending=False))"
   ]
  },
  {
   "cell_type": "markdown",
   "metadata": {},
   "source": [
    "Och det svenska kungaparet är de mest aktiva."
   ]
  },
  {
   "cell_type": "code",
   "execution_count": 188,
   "metadata": {
    "collapsed": false
   },
   "outputs": [
    {
     "name": "stdout",
     "output_type": "stream",
     "text": [
      "                                   date_start                 totalt\n",
      "location_category                     inrikes slottet utrikes       \n",
      "person                     country                                  \n",
      "Kungen                     Sverige        127     222      18    367\n",
      "Drottningen                Sverige        100     134      18    252\n",
      "Kong Harald V              Norge           42     114      26    182\n",
      "Kronprins Haakon           Norge           79      74      28    181\n",
      "Prins Daniel               Sverige         86      78      15    179\n",
      "Kronprinsessan             Sverige         67      92      20    179\n",
      "H.M. Dronningen            Danmark         50      83      10    143\n",
      "H.K.H. Kronprinsessen      Danmark         78      23      10    111\n",
      "H.K.H. Kronprinsen         Danmark         62      34      11    107\n",
      "Dronning Sonja             Norge           40      45      22    107\n",
      "Prins Carl Philip          Sverige         58      40       6    104\n",
      "Kronprinsesse Mette-Marit  Norge           73      15      15    103\n",
      "Prinsessan Sofia           Sverige         41      41     NaN     82\n",
      "H.K.H. Prins Joachim       Danmark         58      17       3     78\n",
      "H.K.H. Prins Henrik        Danmark         36      33       8     77\n",
      "H.K.H. Prinsesse Benedikte Danmark         39       7       8     54\n",
      "H.K.H. Prinsesse Marie     Danmark         42       9       3     54\n",
      "Prinsessan Madeleine       Sverige         14      20       2     36\n",
      "Prinsesse Astrid           Norge           17       6       3     26\n",
      "Christopher O'Neill        Sverige          7      11       2     20\n",
      "Prinsesse Märtha Louise    Norge            4       3       5     12\n",
      "H.K.H. Prinsesse Isabella  Danmark          1       2     NaN      3\n",
      "H.K.H. Prins Vincent       Danmark        NaN       2     NaN      2\n",
      "H.K.H. Prins Christian     Danmark          1       1     NaN      2\n",
      "H.H. Prinsesse Athena      Danmark        NaN       2     NaN      2\n",
      "H.H. Prins Nikolai         Danmark        NaN       1       1      2\n",
      "H.H. Prins Henrik          Danmark        NaN       1       1      2\n",
      "H.H. Prins Felix           Danmark        NaN       1       1      2\n",
      "H.K.H. Prinsesse Josephine Danmark        NaN       2     NaN      2\n",
      "Prinsessan Estelle         Sverige        NaN       1     NaN      1\n"
     ]
    }
   ],
   "source": [
    "df_top_active = by_person_country.sort_values('totalt', ascending=False)\n",
    "print(df_top_active)"
   ]
  },
  {
   "cell_type": "markdown",
   "metadata": {},
   "source": [
    "Men att bara jämföra antal kalenderhändelser kan vara lite missvisande eftersom kungahusen bokför lite olika aktivt, framför allt gällande mindre aktiviteter på slottet. Jämför vi kalenderhändelser utanför slottet nyanseras bilden något. \n",
    "\n",
    "Svenskarna är mest aktiva på inrikesevenemang."
   ]
  },
  {
   "cell_type": "code",
   "execution_count": 189,
   "metadata": {
    "collapsed": false
   },
   "outputs": [
    {
     "name": "stdout",
     "output_type": "stream",
     "text": [
      "                                  date_start                 totalt\n",
      "location_category                    inrikes slottet utrikes       \n",
      "person                    country                                  \n",
      "Kungen                    Sverige        127     222      18    367\n",
      "Drottningen               Sverige        100     134      18    252\n",
      "Prins Daniel              Sverige         86      78      15    179\n",
      "Kronprins Haakon          Norge           79      74      28    181\n",
      "H.K.H. Kronprinsessen     Danmark         78      23      10    111\n",
      "Kronprinsesse Mette-Marit Norge           73      15      15    103\n",
      "Kronprinsessan            Sverige         67      92      20    179\n",
      "H.K.H. Kronprinsen        Danmark         62      34      11    107\n",
      "Prins Carl Philip         Sverige         58      40       6    104\n",
      "H.K.H. Prins Joachim      Danmark         58      17       3     78\n",
      "H.M. Dronningen           Danmark         50      83      10    143\n",
      "Kong Harald V             Norge           42     114      26    182\n",
      "H.K.H. Prinsesse Marie    Danmark         42       9       3     54\n",
      "Prinsessan Sofia          Sverige         41      41     NaN     82\n",
      "Dronning Sonja            Norge           40      45      22    107\n"
     ]
    }
   ],
   "source": [
    "print by_person_country.sort_values([('date_start', 'inrikes')], ascending=False).head(15)\n"
   ]
  },
  {
   "cell_type": "markdown",
   "metadata": {},
   "source": [
    "Medan norska kungahuset reser aktivast utomlands."
   ]
  },
  {
   "cell_type": "code",
   "execution_count": 190,
   "metadata": {
    "collapsed": false
   },
   "outputs": [
    {
     "name": "stdout",
     "output_type": "stream",
     "text": [
      "                                   date_start                 totalt\n",
      "location_category                     inrikes slottet utrikes       \n",
      "person                     country                                  \n",
      "Kronprins Haakon           Norge           79      74      28    181\n",
      "Kong Harald V              Norge           42     114      26    182\n",
      "Dronning Sonja             Norge           40      45      22    107\n",
      "Kronprinsessan             Sverige         67      92      20    179\n",
      "Drottningen                Sverige        100     134      18    252\n",
      "Kungen                     Sverige        127     222      18    367\n",
      "Kronprinsesse Mette-Marit  Norge           73      15      15    103\n",
      "Prins Daniel               Sverige         86      78      15    179\n",
      "H.K.H. Kronprinsen         Danmark         62      34      11    107\n",
      "H.K.H. Kronprinsessen      Danmark         78      23      10    111\n",
      "H.M. Dronningen            Danmark         50      83      10    143\n",
      "H.K.H. Prins Henrik        Danmark         36      33       8     77\n",
      "H.K.H. Prinsesse Benedikte Danmark         39       7       8     54\n",
      "Prins Carl Philip          Sverige         58      40       6    104\n",
      "Prinsesse Märtha Louise    Norge            4       3       5     12\n"
     ]
    }
   ],
   "source": [
    "print by_person_country.sort_values([('date_start', 'utrikes')], ascending=False).head(15)\n"
   ]
  },
  {
   "cell_type": "markdown",
   "metadata": {},
   "source": [
    "Tittar vi enbart på svenska kungahuset är Sofia redan betydligt mer aktiv än Madeleine."
   ]
  },
  {
   "cell_type": "code",
   "execution_count": 206,
   "metadata": {
    "collapsed": false
   },
   "outputs": [
    {
     "data": {
      "text/html": [
       "<div>\n",
       "<table border=\"1\" class=\"dataframe\">\n",
       "  <thead>\n",
       "    <tr>\n",
       "      <th></th>\n",
       "      <th colspan=\"3\" halign=\"left\">date_start</th>\n",
       "      <th>totalt</th>\n",
       "    </tr>\n",
       "    <tr>\n",
       "      <th>location_category</th>\n",
       "      <th>inrikes</th>\n",
       "      <th>slottet</th>\n",
       "      <th>utrikes</th>\n",
       "      <th></th>\n",
       "    </tr>\n",
       "    <tr>\n",
       "      <th>person</th>\n",
       "      <th></th>\n",
       "      <th></th>\n",
       "      <th></th>\n",
       "      <th></th>\n",
       "    </tr>\n",
       "  </thead>\n",
       "  <tbody>\n",
       "    <tr>\n",
       "      <th>Kungen</th>\n",
       "      <td>127</td>\n",
       "      <td>222</td>\n",
       "      <td>18</td>\n",
       "      <td>367</td>\n",
       "    </tr>\n",
       "    <tr>\n",
       "      <th>Drottningen</th>\n",
       "      <td>100</td>\n",
       "      <td>134</td>\n",
       "      <td>18</td>\n",
       "      <td>252</td>\n",
       "    </tr>\n",
       "    <tr>\n",
       "      <th>Kronprinsessan</th>\n",
       "      <td>67</td>\n",
       "      <td>92</td>\n",
       "      <td>20</td>\n",
       "      <td>179</td>\n",
       "    </tr>\n",
       "    <tr>\n",
       "      <th>Prins Daniel</th>\n",
       "      <td>86</td>\n",
       "      <td>78</td>\n",
       "      <td>15</td>\n",
       "      <td>179</td>\n",
       "    </tr>\n",
       "    <tr>\n",
       "      <th>Prins Carl Philip</th>\n",
       "      <td>58</td>\n",
       "      <td>40</td>\n",
       "      <td>6</td>\n",
       "      <td>104</td>\n",
       "    </tr>\n",
       "    <tr>\n",
       "      <th>Prinsessan Sofia</th>\n",
       "      <td>41</td>\n",
       "      <td>41</td>\n",
       "      <td>NaN</td>\n",
       "      <td>82</td>\n",
       "    </tr>\n",
       "    <tr>\n",
       "      <th>Prinsessan Madeleine</th>\n",
       "      <td>14</td>\n",
       "      <td>20</td>\n",
       "      <td>2</td>\n",
       "      <td>36</td>\n",
       "    </tr>\n",
       "    <tr>\n",
       "      <th>Christopher O'Neill</th>\n",
       "      <td>7</td>\n",
       "      <td>11</td>\n",
       "      <td>2</td>\n",
       "      <td>20</td>\n",
       "    </tr>\n",
       "    <tr>\n",
       "      <th>Prinsessan Estelle</th>\n",
       "      <td>NaN</td>\n",
       "      <td>1</td>\n",
       "      <td>NaN</td>\n",
       "      <td>1</td>\n",
       "    </tr>\n",
       "  </tbody>\n",
       "</table>\n",
       "</div>"
      ],
      "text/plain": [
       "                     date_start                 totalt\n",
       "location_category       inrikes slottet utrikes       \n",
       "person                                                \n",
       "Kungen                      127     222      18    367\n",
       "Drottningen                 100     134      18    252\n",
       "Kronprinsessan               67      92      20    179\n",
       "Prins Daniel                 86      78      15    179\n",
       "Prins Carl Philip            58      40       6    104\n",
       "Prinsessan Sofia             41      41     NaN     82\n",
       "Prinsessan Madeleine         14      20       2     36\n",
       "Christopher O'Neill           7      11       2     20\n",
       "Prinsessan Estelle          NaN       1     NaN      1"
      ]
     },
     "execution_count": 206,
     "metadata": {},
     "output_type": "execute_result"
    }
   ],
   "source": [
    "swe_by_person.sort_values(\"totalt\", ascending=False)"
   ]
  },
  {
   "cell_type": "markdown",
   "metadata": {},
   "source": [
    "Relativt sett (mätt i procent), är Kronprinsessan och Chris O'Neill är de mest utlandsaktiva svenskarna. "
   ]
  },
  {
   "cell_type": "code",
   "execution_count": 213,
   "metadata": {
    "collapsed": false
   },
   "outputs": [
    {
     "data": {
      "text/html": [
       "<div>\n",
       "<table border=\"1\" class=\"dataframe\">\n",
       "  <thead>\n",
       "    <tr>\n",
       "      <th></th>\n",
       "      <th colspan=\"3\" halign=\"left\">date_start</th>\n",
       "      <th>totalt</th>\n",
       "    </tr>\n",
       "    <tr>\n",
       "      <th>location_category</th>\n",
       "      <th>inrikes</th>\n",
       "      <th>slottet</th>\n",
       "      <th>utrikes</th>\n",
       "      <th></th>\n",
       "    </tr>\n",
       "    <tr>\n",
       "      <th>person</th>\n",
       "      <th></th>\n",
       "      <th></th>\n",
       "      <th></th>\n",
       "      <th></th>\n",
       "    </tr>\n",
       "  </thead>\n",
       "  <tbody>\n",
       "    <tr>\n",
       "      <th>Kronprinsessan</th>\n",
       "      <td>37</td>\n",
       "      <td>51</td>\n",
       "      <td>11</td>\n",
       "      <td>100</td>\n",
       "    </tr>\n",
       "    <tr>\n",
       "      <th>Christopher O'Neill</th>\n",
       "      <td>35</td>\n",
       "      <td>55</td>\n",
       "      <td>10</td>\n",
       "      <td>100</td>\n",
       "    </tr>\n",
       "    <tr>\n",
       "      <th>Prins Daniel</th>\n",
       "      <td>48</td>\n",
       "      <td>44</td>\n",
       "      <td>8</td>\n",
       "      <td>100</td>\n",
       "    </tr>\n",
       "    <tr>\n",
       "      <th>Drottningen</th>\n",
       "      <td>40</td>\n",
       "      <td>53</td>\n",
       "      <td>7</td>\n",
       "      <td>100</td>\n",
       "    </tr>\n",
       "    <tr>\n",
       "      <th>Prins Carl Philip</th>\n",
       "      <td>56</td>\n",
       "      <td>38</td>\n",
       "      <td>6</td>\n",
       "      <td>100</td>\n",
       "    </tr>\n",
       "    <tr>\n",
       "      <th>Prinsessan Madeleine</th>\n",
       "      <td>39</td>\n",
       "      <td>56</td>\n",
       "      <td>6</td>\n",
       "      <td>100</td>\n",
       "    </tr>\n",
       "    <tr>\n",
       "      <th>Kungen</th>\n",
       "      <td>35</td>\n",
       "      <td>60</td>\n",
       "      <td>5</td>\n",
       "      <td>100</td>\n",
       "    </tr>\n",
       "    <tr>\n",
       "      <th>Prinsessan Estelle</th>\n",
       "      <td>NaN</td>\n",
       "      <td>100</td>\n",
       "      <td>NaN</td>\n",
       "      <td>100</td>\n",
       "    </tr>\n",
       "    <tr>\n",
       "      <th>Prinsessan Sofia</th>\n",
       "      <td>50</td>\n",
       "      <td>50</td>\n",
       "      <td>NaN</td>\n",
       "      <td>100</td>\n",
       "    </tr>\n",
       "  </tbody>\n",
       "</table>\n",
       "</div>"
      ],
      "text/plain": [
       "                     date_start                 totalt\n",
       "location_category       inrikes slottet utrikes       \n",
       "person                                                \n",
       "Kronprinsessan               37      51      11    100\n",
       "Christopher O'Neill          35      55      10    100\n",
       "Prins Daniel                 48      44       8    100\n",
       "Drottningen                  40      53       7    100\n",
       "Prins Carl Philip            56      38       6    100\n",
       "Prinsessan Madeleine         39      56       6    100\n",
       "Kungen                       35      60       5    100\n",
       "Prinsessan Estelle          NaN     100     NaN    100\n",
       "Prinsessan Sofia             50      50     NaN    100"
      ]
     },
     "execution_count": 213,
     "metadata": {},
     "output_type": "execute_result"
    }
   ],
   "source": [
    "swe_perc = swe_by_person.apply(lambda x: np.round(x / x.sum() * 2 * 100), axis=1)\n",
    "swe_perc.sort_values([('date_start', 'utrikes')], ascending=False)"
   ]
  }
 ],
 "metadata": {
  "kernelspec": {
   "display_name": "Python 2",
   "language": "python",
   "name": "python2"
  },
  "language_info": {
   "codemirror_mode": {
    "name": "ipython",
    "version": 2
   },
   "file_extension": ".py",
   "mimetype": "text/x-python",
   "name": "python",
   "nbconvert_exporter": "python",
   "pygments_lexer": "ipython2",
   "version": "2.7.6"
  }
 },
 "nbformat": 4,
 "nbformat_minor": 0
}
